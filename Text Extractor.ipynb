{
 "cells": [
  {
   "cell_type": "markdown",
   "id": "79b399d1-754e-40e9-b11b-85b0e0aaca45",
   "metadata": {},
   "source": [
    "# TASK A : Extract and Categorize Tasks from Unannotated Text"
   ]
  },
  {
   "cell_type": "code",
   "execution_count": 1,
   "id": "822357db-0397-4b26-98c2-c7b29ff75195",
   "metadata": {},
   "outputs": [
    {
     "name": "stdout",
     "output_type": "stream",
     "text": [
      "Requirement already satisfied: nltk in c:\\users\\sanjay kumar\\anaconda3\\lib\\site-packages (3.8.1)\n",
      "Requirement already satisfied: click in c:\\users\\sanjay kumar\\anaconda3\\lib\\site-packages (from nltk) (8.1.7)\n",
      "Requirement already satisfied: joblib in c:\\users\\sanjay kumar\\anaconda3\\lib\\site-packages (from nltk) (1.1.1)\n",
      "Requirement already satisfied: regex>=2021.8.3 in c:\\users\\sanjay kumar\\anaconda3\\lib\\site-packages (from nltk) (2023.10.3)\n",
      "Requirement already satisfied: tqdm in c:\\users\\sanjay kumar\\anaconda3\\lib\\site-packages (from nltk) (4.65.0)\n",
      "Requirement already satisfied: colorama in c:\\users\\sanjay kumar\\anaconda3\\lib\\site-packages (from click->nltk) (0.4.6)\n"
     ]
    }
   ],
   "source": [
    "!pip install nltk"
   ]
  },
  {
   "cell_type": "markdown",
   "id": "0f06ab6e-8e09-472f-a876-62d0fd751f91",
   "metadata": {},
   "source": [
    "## Importing Required Libraries"
   ]
  },
  {
   "cell_type": "code",
   "execution_count": 2,
   "id": "8d2763da-12a1-484b-9f70-e4fbac4abb2e",
   "metadata": {},
   "outputs": [],
   "source": [
    "import nltk\n",
    "import re\n",
    "from nltk.tokenize import sent_tokenize, word_tokenize\n",
    "from nltk.corpus import stopwords\n",
    "from nltk.tag import pos_tag\n",
    "from collections import defaultdict"
   ]
  },
  {
   "cell_type": "code",
   "execution_count": 3,
   "id": "23dd79e7-1c0b-40d8-9a5e-8072fb046122",
   "metadata": {},
   "outputs": [
    {
     "name": "stderr",
     "output_type": "stream",
     "text": [
      "[nltk_data] Downloading package punkt to C:\\Users\\SANJAY\n",
      "[nltk_data]     KUMAR\\AppData\\Roaming\\nltk_data...\n",
      "[nltk_data]   Package punkt is already up-to-date!\n",
      "[nltk_data] Downloading package averaged_perceptron_tagger to\n",
      "[nltk_data]     C:\\Users\\SANJAY KUMAR\\AppData\\Roaming\\nltk_data...\n",
      "[nltk_data]   Package averaged_perceptron_tagger is already up-to-\n",
      "[nltk_data]       date!\n",
      "[nltk_data] Downloading package stopwords to C:\\Users\\SANJAY\n",
      "[nltk_data]     KUMAR\\AppData\\Roaming\\nltk_data...\n",
      "[nltk_data]   Package stopwords is already up-to-date!\n"
     ]
    },
    {
     "data": {
      "text/plain": [
       "True"
      ]
     },
     "execution_count": 3,
     "metadata": {},
     "output_type": "execute_result"
    }
   ],
   "source": [
    "nltk.download('punkt')\n",
    "nltk.download('averaged_perceptron_tagger')\n",
    "nltk.download('stopwords')"
   ]
  },
  {
   "cell_type": "markdown",
   "id": "b57ffdb3-e475-402d-9bd4-3407af9ea3ac",
   "metadata": {},
   "source": [
    "## Sample text"
   ]
  },
  {
   "cell_type": "code",
   "execution_count": 4,
   "id": "a4b725af-a45a-4601-acbf-5e1eaff8ab9a",
   "metadata": {},
   "outputs": [],
   "source": [
    "text = \"Rahul wakes up early every day. Rahul must goes to college in the morning and comes back at 3 pm. At present, Rahul is outside and has to buy the snacks for all of us. Rahul should clean the room by 5 pm today.\""
   ]
  },
  {
   "cell_type": "markdown",
   "id": "e1f04966-ba78-4a7a-a859-f82aacaee1af",
   "metadata": {},
   "source": [
    "## Preprocessing\n",
    "- Clean the text (remove stop words, punctuation, and irrelevant metadata).\n",
    "- Tokenize sentences and perform POS tagging to identify actionable verbs (e.g., \n",
    "\"schedule,\" \"discuss,\" \"review\")."
   ]
  },
  {
   "cell_type": "code",
   "execution_count": 5,
   "id": "f0078999-b0ee-44eb-acc1-f71c9cadda26",
   "metadata": {},
   "outputs": [],
   "source": [
    "def preprocess_text(text):\n",
    "    stop_words = set(stopwords.words('english'))\n",
    "    sentences = sent_tokenize(text)\n",
    "    cleaned_sentences = []\n",
    "    \n",
    "    for sentence in sentences:\n",
    "        words = word_tokenize(sentence)\n",
    "        words = [word.lower() for word in words if word.isalnum() and word.lower() not in stop_words]\n",
    "        cleaned_sentences.append(' '.join(words))\n",
    "    \n",
    "    return cleaned_sentences"
   ]
  },
  {
   "cell_type": "markdown",
   "id": "b6966d80-b45e-4473-ace7-f8fdc38473a7",
   "metadata": {},
   "source": [
    "## Task Identification\n",
    "- Develop heuristics to identify sentences likely representing tasks.\n",
    "- Identify task-related sentences using heuristic-based approach.\n",
    "- Extract the person responsible and the deadline if available."
   ]
  },
  {
   "cell_type": "code",
   "execution_count": 5,
   "id": "4fd94db8-51d6-4188-8189-c978ddaad925",
   "metadata": {},
   "outputs": [],
   "source": [
    "def extract_tasks(text):\n",
    "    sentences = sent_tokenize(text)\n",
    "    task_sentences = []\n",
    "    task_keywords = {\"has to\", \"should\", \"must\", \"need to\", \"required to\", \"scheduled to\"}\n",
    "    \n",
    "    for sentence in sentences:\n",
    "        if any(keyword in sentence.lower() for keyword in task_keywords):\n",
    "            task_sentences.append(sentence)\n",
    "    \n",
    "    return task_sentences"
   ]
  },
  {
   "cell_type": "code",
   "execution_count": 6,
   "id": "ec21594b-a1ed-4608-874a-aca3121076cc",
   "metadata": {},
   "outputs": [],
   "source": [
    "def extract_entities(sentence):\n",
    "    words = word_tokenize(sentence)\n",
    "    tagged_words = pos_tag(words)\n",
    "    responsible_person = None\n",
    "    deadline = None\n",
    "    \n",
    "    for i, (word, tag) in enumerate(tagged_words):\n",
    "        if tag == 'NNP':  # Proper Noun as a potential person\n",
    "            responsible_person = word\n",
    "        if word.lower() in {'by', 'before', 'at'} and i + 1 < len(tagged_words):\n",
    "            deadline = ' '.join(words[i+1:i+3])  # Get deadline phrase (simple heuristic)\n",
    "    \n",
    "    return responsible_person, deadline"
   ]
  },
  {
   "cell_type": "markdown",
   "id": "f116d2e2-a052-4287-9b1c-c338cf12db0e",
   "metadata": {},
   "source": [
    "## Processing the text"
   ]
  },
  {
   "cell_type": "code",
   "execution_count": 11,
   "id": "8ae25b11-625b-4592-9a59-79f3bf184e9f",
   "metadata": {},
   "outputs": [],
   "source": [
    "cleaned_sentences = preprocess_text(text)\n",
    "tasks = extract_tasks(text)\n",
    "structured_tasks = []"
   ]
  },
  {
   "cell_type": "code",
   "execution_count": 12,
   "id": "1719b786-85f2-4129-b642-fd2a8bbd131c",
   "metadata": {},
   "outputs": [],
   "source": [
    "for task in tasks:\n",
    "    person, time = extract_entities(task)\n",
    "    structured_tasks.append({\"task\": task, \"who\": person, \"when\": time})"
   ]
  },
  {
   "cell_type": "markdown",
   "id": "3b27bd9c-3c23-4811-b08b-cbd2fde97a41",
   "metadata": {},
   "source": [
    "## Output results\n",
    "- Generate a structured list of tasks with categories. Also, for the tasks that have information, list who is to do that task and when is the deadline."
   ]
  },
  {
   "cell_type": "code",
   "execution_count": 13,
   "id": "5e888e66-a537-469f-873e-4e76c3e3b450",
   "metadata": {},
   "outputs": [
    {
     "name": "stdout",
     "output_type": "stream",
     "text": [
      "Task: Rahul must goes to college in the morning and comes back at 3 pm.\n",
      "Who: Rahul\n",
      "When: 3 pm\n",
      "-\n",
      "Task: At present, Rahul is outside and has to buy the snacks for all of us.\n",
      "Who: Rahul\n",
      "When: present ,\n",
      "-\n",
      "Task: Rahul should clean the room by 5 pm today.\n",
      "Who: Rahul\n",
      "When: 5 pm\n",
      "-\n"
     ]
    }
   ],
   "source": [
    "for task in structured_tasks:\n",
    "    print(f\"Task: {task['task']}\")\n",
    "    print(f\"Who: {task['who'] if task['who'] else 'Not mentioned'}\")\n",
    "    print(f\"When: {task['when'] if task['when'] else 'Not mentioned'}\")\n",
    "    print(\"-\")"
   ]
  },
  {
   "cell_type": "code",
   "execution_count": null,
   "id": "75152703-14a7-4e17-b3ed-03b57fff5f68",
   "metadata": {},
   "outputs": [],
   "source": []
  }
 ],
 "metadata": {
  "kernelspec": {
   "display_name": "Python 3 (ipykernel)",
   "language": "python",
   "name": "python3"
  },
  "language_info": {
   "codemirror_mode": {
    "name": "ipython",
    "version": 3
   },
   "file_extension": ".py",
   "mimetype": "text/x-python",
   "name": "python",
   "nbconvert_exporter": "python",
   "pygments_lexer": "ipython3",
   "version": "3.11.7"
  }
 },
 "nbformat": 4,
 "nbformat_minor": 5
}
